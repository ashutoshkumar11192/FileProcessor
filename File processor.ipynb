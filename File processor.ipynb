{
 "cells": [
  {
   "cell_type": "code",
   "execution_count": null,
   "id": "fba9b121",
   "metadata": {},
   "outputs": [],
   "source": [
    "import pandas as pd\n",
    "import os\n",
    "\n",
    "chunk_size = 500000\n",
    "batch_no = 1\n",
    "\n",
    "for chunk in pd.read_csv('2021-09-16_1429_SCADi2_FM_Seller_Pickup_Performance.csv', chunksize=chunk_size):\n",
    "    chunk.to_csv('output_data' + str(batch_no) + '.csv', index=False)\n",
    "    batch_no +=1"
   ]
  },
  {
   "cell_type": "code",
   "execution_count": 7,
   "id": "e6095ef3",
   "metadata": {},
   "outputs": [
    {
     "name": "stderr",
     "output_type": "stream",
     "text": [
      "C:\\Users\\93786\\Anaconda3\\lib\\site-packages\\IPython\\core\\interactiveshell.py:3165: DtypeWarning: Columns (20) have mixed types.Specify dtype option on import or set low_memory=False.\n",
      "  has_raised = await self.run_ast_nodes(code_ast.body, cell_name,\n"
     ]
    }
   ],
   "source": [
    "import os\n",
    "df = pd.read_csv('output_data.csv')\n",
    "column_name = 'Product Type'\n",
    "unique_values = df[column_name].unique()\n",
    "for unique_value in unique_values:\n",
    "    df_output = df[df[column_name].str.contains(unique_value)]\n",
    "    output_path = os.path.join('output', unique_value + '.csv')\n",
    "    df_output.to_csv(output_path, index=False)\n",
    "#     df_output.to_csv(output_path, sheet_name=unique_value, index=False)"
   ]
  },
  {
   "cell_type": "code",
   "execution_count": null,
   "id": "5aa19c79",
   "metadata": {},
   "outputs": [],
   "source": []
  }
 ],
 "metadata": {
  "kernelspec": {
   "display_name": "Python 3",
   "language": "python",
   "name": "python3"
  },
  "language_info": {
   "codemirror_mode": {
    "name": "ipython",
    "version": 3
   },
   "file_extension": ".py",
   "mimetype": "text/x-python",
   "name": "python",
   "nbconvert_exporter": "python",
   "pygments_lexer": "ipython3",
   "version": "3.8.8"
  }
 },
 "nbformat": 4,
 "nbformat_minor": 5
}
