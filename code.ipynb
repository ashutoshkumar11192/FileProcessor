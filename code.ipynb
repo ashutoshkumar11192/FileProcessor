{
 "cells": [
  {
   "cell_type": "code",
   "execution_count": 1,
   "metadata": {},
   "outputs": [
    {
     "name": "stdout",
     "output_type": "stream",
     "text": [
      "[1, 8, 5, 3, 3, 4, 4, 4, 5, 6]\n",
      "{1, 3, 4, 5, 6, 8}\n"
     ]
    }
   ],
   "source": [
    "#How to get unique values from a list \n",
    "list_a = [1,8,5,3,3,4,4,4,5,6]\n",
    "set_a = set(list_a)\n",
    "print(list_a)\n",
    "print(set_a)\n",
    "# [1, 8, 5, 3, 3, 4, 4, 4, 5, 6]\n",
    "# {1, 3, 4, 5, 6, 8}"
   ]
  },
  {
   "cell_type": "code",
   "execution_count": 1,
   "metadata": {},
   "outputs": [],
   "source": [
    "header_list = ['DC','State','Region', 'Allocation_for_D0_A', 'Allocation_for_D0_B', 'Allocation_for_D0_C',\n",
    "       'Allocation_for_D0_total', 'Fresh_Actionable_for_D0_D', 'Fresh_Actionable_for_D0_E', 'Allocation_Actionable_total',\n",
    "       'RAD_Actionable_Total', 'Total_Actionable_for_D0', 'Total_OFD',\n",
    "       'EOD_Pendency', 'Allocation/Active_Capacity', 'DC_days_of_stress', 'Impact_of_overallocation',\n",
    "       'Impact_of_Hiring_Gap', 'Impact_of_absenteeism', 'Impact_of_underutilisation', 'Impact of previous Pendency',\n",
    "       '%_Impact_of_overallocation', '%_Impact_of_Hiring_Gap', '%_Impact_of_absenteeism', '%_Impact_of_underutilisation',\n",
    "       '%_Impact_of_previous_Pendency', 'Total', 'OFD_Capacity(Sanctioned)', 'OFD_Capacity(active)',\n",
    "       'OFD_Capacity(present)', 'Productivity', 'Sanctioned', 'Active',\n",
    "       'Present', 'Callout_DCs','Del_Conv','Manpower_Rostered_Cap','Manpower_Rostered_Count','Unplanned Leaves','Absenteeism-%','FE Utilization','PT Employees','Remarks']\n"
   ]
  },
  {
   "cell_type": "code",
   "execution_count": 2,
   "metadata": {},
   "outputs": [
    {
     "data": {
      "text/plain": [
       "43"
      ]
     },
     "execution_count": 2,
     "metadata": {},
     "output_type": "execute_result"
    }
   ],
   "source": [
    "len(header_list)"
   ]
  },
  {
   "cell_type": "code",
   "execution_count": null,
   "metadata": {},
   "outputs": [],
   "source": [
    "conda update pandas"
   ]
  },
  {
   "cell_type": "code",
   "execution_count": null,
   "metadata": {},
   "outputs": [],
   "source": []
  },
  {
   "cell_type": "code",
   "execution_count": null,
   "metadata": {},
   "outputs": [],
   "source": [
    "import os\n",
    "df = pd.read_csv('list_od_dc_or_ppc.csv')\n",
    "column_name = 'city_name'\n",
    "unique_values = df[column_name].unique()\n",
    "for unique_value in unique_values:\n",
    "    df_output = df[df[column_name].str.contains(unique_value)]\n",
    "    output_path = os.path.join('output', unique_value + '.xlsx')\n",
    "    df_output.to_excel(output_path, sheet_name=unique_value, index=False)"
   ]
  },
  {
   "cell_type": "code",
   "execution_count": 1,
   "metadata": {},
   "outputs": [],
   "source": [
    "x = '2021-09-09 00:00:00'"
   ]
  },
  {
   "cell_type": "code",
   "execution_count": 2,
   "metadata": {},
   "outputs": [
    {
     "data": {
      "text/plain": [
       "str"
      ]
     },
     "execution_count": 2,
     "metadata": {},
     "output_type": "execute_result"
    }
   ],
   "source": [
    "type(x)"
   ]
  },
  {
   "cell_type": "code",
   "execution_count": null,
   "metadata": {},
   "outputs": [],
   "source": [
    "# Date and time formating \n",
    "\n",
    "import datetime\n",
    "import os\n",
    "\n",
    "# To get today's date in 'day-month-year' format(01-12-2017).\n",
    "dateToday=datetime.datetime.today()\n",
    "FormatedDate=('{:02d}'.format(dateToday.day)+'-'+'{:02d}'.format(dateToday.month)+'-'+'{:04d}'.format(dateToday.year))"
   ]
  },
  {
   "cell_type": "code",
   "execution_count": null,
   "metadata": {},
   "outputs": [],
   "source": [
    "dateToday\n",
    "# FormatedDate"
   ]
  },
  {
   "cell_type": "code",
   "execution_count": null,
   "metadata": {},
   "outputs": [],
   "source": [
    "import win32com.client #pip install pypiwin32 to work with windows operating sysytm"
   ]
  },
  {
   "cell_type": "code",
   "execution_count": null,
   "metadata": {},
   "outputs": [],
   "source": [
    "list_a = ['Houston','Rome','Berlin','Madrid','Rome']\n",
    "set_a = set(list_a)\n",
    "print(list_a)\n",
    "print(set_a)\n",
    "# [1, 8, 5, 3, 3, 4, 4, 4, 5, 6]\n",
    "# {1, 3, 4, 5, 6, 8}"
   ]
  },
  {
   "cell_type": "code",
   "execution_count": null,
   "metadata": {},
   "outputs": [],
   "source": [
    "cities = ['Houston', 'Rome', 'Berlin', 'Madrid']\n",
    "city = list(enumerate(cities))\n",
    "# [(0, 'Houston'), (1, 'Rome'), (2, 'Berlin'), (3, 'Madrid')]\n",
    "city"
   ]
  },
  {
   "cell_type": "code",
   "execution_count": null,
   "metadata": {},
   "outputs": [],
   "source": [
    "type(city)"
   ]
  },
  {
   "cell_type": "code",
   "execution_count": null,
   "metadata": {},
   "outputs": [],
   "source": [
    "type(city[0])"
   ]
  },
  {
   "cell_type": "code",
   "execution_count": null,
   "metadata": {},
   "outputs": [],
   "source": [
    "cityy = []\n",
    "list1 = []\n",
    "for count, city in enumerate(cities):\n",
    "    list1.append(count)\n",
    "    list1.append(city)\n",
    "    cityy.append(list1)"
   ]
  },
  {
   "cell_type": "code",
   "execution_count": null,
   "metadata": {},
   "outputs": [],
   "source": [
    "cityy"
   ]
  },
  {
   "cell_type": "code",
   "execution_count": null,
   "metadata": {},
   "outputs": [],
   "source": [
    "data"
   ]
  },
  {
   "cell_type": "code",
   "execution_count": null,
   "metadata": {},
   "outputs": [],
   "source": [
    "data = '''BVM\n",
    "CJB\n",
    "DTT\n",
    "\n",
    "'''\n",
    "data = data.replace(\"\\n\", \"','\")\n",
    "# data"
   ]
  },
  {
   "cell_type": "code",
   "execution_count": null,
   "metadata": {},
   "outputs": [],
   "source": [
    "pip install pandas-profiling"
   ]
  },
  {
   "cell_type": "raw",
   "metadata": {},
   "source": [
    "Important libraries for statistical analysis\n",
    "1) pandas profiling\n",
    "2) "
   ]
  },
  {
   "cell_type": "code",
   "execution_count": null,
   "metadata": {},
   "outputs": [],
   "source": [
    "from pandas_profiling import ProfileReport\n",
    "prof = ProfileReport(LM_Stress)\n",
    "prof.to_file(output_file='output.html')"
   ]
  },
  {
   "cell_type": "code",
   "execution_count": null,
   "metadata": {},
   "outputs": [],
   "source": [
    "from pandas_profiling import ProfileReport\n",
    "#We only use the first 10000 data points\n",
    "prof = ProfileReport(df.sample(n=10000)) \n",
    "prof.to_file(output_file='output.html')"
   ]
  },
  {
   "cell_type": "code",
   "execution_count": null,
   "metadata": {},
   "outputs": [],
   "source": [
    "profile = ProfileReport(df, minimal=True)\n",
    "profile.to_file(output_file=\"output_min.html\")"
   ]
  },
  {
   "cell_type": "code",
   "execution_count": null,
   "metadata": {},
   "outputs": [],
   "source": [
    "dataframe = \"\"\"JH\tCentral\t70\t334\t223\n",
    "AP\tSouth\t41\t76\t81\n",
    "MH\tWest\t199\t237\t309\n",
    "AP\tSouth\t111\t277\t299\n",
    "MH\tWest\t65\t81\t109\n",
    "UP\tCentral\t230\t367\t388\n",
    "AS\tEast\t0\t0\t0\n",
    "\"\"\""
   ]
  },
  {
   "cell_type": "code",
   "execution_count": 2,
   "metadata": {},
   "outputs": [],
   "source": [
    "import pandas as pd\n",
    "df1 = pd.DataFrame(\n",
    "        {\n",
    "            \"A\": [\"A0\", \"A1\", \"A2\", \"A3\"],\n",
    "            \"B\": [\"B0\", \"B1\", \"B2\", \"B3\"],\n",
    "            \"C\": [\"C0\", \"C1\", \"C2\", \"C3\"],\n",
    "            \"D\": [\"D0\", \"D1\", \"D2\", \"D3\"],\n",
    "        },\n",
    "        index=[0, 1, 2, 3],\n",
    "    )\n",
    "df2 = pd.DataFrame(\n",
    "        {\n",
    "            \"A\": [\"A4\", \"A5\", \"A6\", \"A7\"],\n",
    "            \"B\": [\"B4\", \"B5\", \"B6\", \"B7\"],\n",
    "            \"C\": [\"C4\", \"C5\", \"C6\", \"C7\"],\n",
    "            \"D\": [\"D4\", \"D5\", \"D6\", \"D7\"],\n",
    "        },\n",
    "        index=[4, 5, 6, 7],)\n",
    "df3 = pd.DataFrame(\n",
    "        {\n",
    "            \"A\": [\"A8\", \"A9\", \"A10\", \"A11\"],\n",
    "            \"B\": [\"B8\", \"B9\", \"B10\", \"B11\"],\n",
    "            \"C\": [\"C8\", \"C9\", \"C10\", \"C11\"],\n",
    "            \"D\": [\"D8\", \"D9\", \"D10\", \"D11\"],\n",
    "       },\n",
    "  index=[8, 9, 10, 11],   \n",
    "frames = [df1, df2, df3] \n",
    "result = pd.concat(frames)\n"
   ]
  },
  {
   "cell_type": "code",
   "execution_count": 3,
   "metadata": {},
   "outputs": [
    {
     "data": {
      "text/plain": [
       "[    A   B   C   D\n",
       " 0  A0  B0  C0  D0\n",
       " 1  A1  B1  C1  D1\n",
       " 2  A2  B2  C2  D2\n",
       " 3  A3  B3  C3  D3,\n",
       "     A   B   C   D\n",
       " 4  A4  B4  C4  D4\n",
       " 5  A5  B5  C5  D5\n",
       " 6  A6  B6  C6  D6\n",
       " 7  A7  B7  C7  D7,\n",
       "       A    B    C    D\n",
       " 8    A8   B8   C8   D8\n",
       " 9    A9   B9   C9   D9\n",
       " 10  A10  B10  C10  D10\n",
       " 11  A11  B11  C11  D11]"
      ]
     },
     "execution_count": 3,
     "metadata": {},
     "output_type": "execute_result"
    }
   ],
   "source": [
    "frames"
   ]
  },
  {
   "cell_type": "code",
   "execution_count": null,
   "metadata": {},
   "outputs": [],
   "source": [
    "#code to drop the first row of dataframe\n",
    "\n",
    "LM_Stress.drop(index=LM_Stress.index[0], \n",
    "        axis=0, \n",
    "        inplace=True)"
   ]
  },
  {
   "cell_type": "code",
   "execution_count": null,
   "metadata": {},
   "outputs": [],
   "source": [
    "# Code to remove first N rows\n",
    "N = 3\n",
    "df = df.iloc[N: , :]"
   ]
  },
  {
   "cell_type": "code",
   "execution_count": null,
   "metadata": {},
   "outputs": [],
   "source": [
    "Row_list =[]\n",
    "  \n",
    "# Iterate over each row\n",
    "for index, rows in LM_Stress.iterrows():\n",
    "    # Create list for the current row\n",
    "    my_list =[rows.DC, rows.Region, rows.Unnamed: 1]\n",
    "      \n",
    "    # append the list to the final list\n",
    "    Row_list.append(my_list)\n",
    "  \n",
    "# Print the list\n",
    "print(Row_list)"
   ]
  },
  {
   "cell_type": "code",
   "execution_count": null,
   "metadata": {},
   "outputs": [],
   "source": [
    "#renaming column name in a dataframe\n",
    "display(LM_Stress)\n",
    "  \n",
    "# create a dictionary\n",
    "# key = old name\n",
    "# value = new name\n",
    "res\n",
    "# dict = {'First Name': 'Name',\n",
    "#         'Location': 'City',\n",
    "#         'Pay': 'Salary'}\n",
    "  \n",
    "# call rename () method\n",
    "LM_Stress.rename(columns=res,\n",
    "          inplace=True)\n",
    "  \n",
    "# print Data frame after rename columns\n",
    "display(LM_Stress)"
   ]
  },
  {
   "cell_type": "code",
   "execution_count": null,
   "metadata": {},
   "outputs": [],
   "source": [
    "test_keys = ['DC', 'Unnamed: 1', 'Region', 'Allocation for D0', 'Unnamed: 4',\n",
    "       'Unnamed: 5', 'Unnamed: 6', 'Fresh Actionable for D0',\n",
    "       'Unnamed: 8', 'Unnamed: 9', 'RAD Actionable Total', 'Unnamed: 11',\n",
    "       'Unnamed: 12', 'Unnamed: 13', 'Unnamed: 14', 'Unnamed: 15',\n",
    "       'Unnamed: 16', 'Unnamed: 17', 'Unnamed: 18', 'Unnamed: 19',\n",
    "       'Unnamed: 20', 'Unnamed: 21', 'Unnamed: 22', 'Unnamed: 23',\n",
    "       'Unnamed: 24', 'Unnamed: 25', 'Unnamed: 26', 'Unnamed: 27',\n",
    "       'Unnamed: 28', 'Unnamed: 29', 'Unnamed: 30', 'Unnamed: 31',\n",
    "       'Unnamed: 32', 'Unnamed: 33', 'Unnamed: 34', 'Unnamed: 35',\n",
    "       'Unnamed: 36', 'Unnamed: 37', 'Unnamed: 38', 'Unnamed: 39',\n",
    "       'Unnamed: 40', 'Unnamed: 41', 'Unnamed: 42']\n",
    "test_values = ['DC','State','Region','A','B','C','Total','D','E','Total','RAD Actionable Total F','Total Actionable for D','Total OFD','EOD Pendency','Allocation/Active Capacity','DC days of stress','Impact of overallocation','Impact of Hiring Gap','Impact of absenteeism','Impact of underutilisation','Impact of previous Pendency','% Impact of overallocation','% Impact of Hiring Gap','% Impact of absenteeism','% Impact of underutilisation','% Impact of previous Pendency','Total','OFD Capacity(Sanctioned)','OFD Capacity(active)','OFD Capacity(present)','Productivity','Sanctioned ','Active','Present','Callout DCs','Del Conversion','Manpower Rostered Capacity','Manpower Rostered','Unplanned Leaves (Absent Derived)','Absenteeism-%','FE Utilization','PT Employees','Remarks'\n",
    "]\n",
    "res = {test_keys[i]: test_values[i] for i in range(len(test_keys))}"
   ]
  },
  {
   "cell_type": "code",
   "execution_count": null,
   "metadata": {},
   "outputs": [],
   "source": [
    "data = {\n",
    "    'A':['A1', 'A2', 'A3', 'A4', 'A5'], \n",
    "    'B':['B1', 'B2', 'B3', 'B4', 'B4'], \n",
    "    'C':['C1', 'C2', 'C3', 'C3', 'C3'], \n",
    "    'D':['D1', 'D2', 'D2', 'D2', 'D2'], \n",
    "    'E':['E1', 'E1', 'E1', 'E1', 'E1'] }\n",
    "  \n",
    "# Convert the dictionary into DataFrame \n",
    "df = pd.DataFrame(data)\n",
    "  \n",
    "# Get number of unique values in column 'C'\n",
    "df.C.nunique(dropna = True)"
   ]
  },
  {
   "cell_type": "code",
   "execution_count": null,
   "metadata": {},
   "outputs": [],
   "source": [
    "import win32com.client #pip install pypiwin32 to work with windows operating sysytm\n",
    "import datetime\n",
    "import os\n",
    "\n",
    "# To get today's date in 'day-month-year' format(01-12-2017).\n",
    "dateToday=datetime.datetime.today()\n",
    "FormatedDate=('{:02d}'.format(dateToday.day)+'-'+'{:02d}'.format(dateToday.month)+'-'+'{:04d}'.format(dateToday.year))\n",
    "\n",
    "# Creating an object for the outlook application.\n",
    "outlook = win32com.client.Dispatch(\"Outlook.Application\").GetNamespace(\"MAPI\")\n",
    "# Creating an object to access Inbox of the outlook.\n",
    "inbox=outlook.GetDefaultFolder(6)\n",
    "# Creating an object to access items inside the inbox of outlook.\n",
    "messages=inbox.Items\n",
    "\n",
    "def save_attachments(subject,which_item,file_name):\n",
    "    # To iterate through inbox emails using inbox.Items object.\n",
    "    for message in messages:\n",
    "        if (message.Subject == subject):\n",
    "            body_content = message.body\n",
    "            # Creating an object for the message.Attachments.\n",
    "            attachment = message.Attachments\n",
    "            # To check which item is selected among the attacments.\n",
    "            print (message.Attachments.Item(which_item))\n",
    "            # To iterate through email items using message.Attachments object.\n",
    "            for attachment in message.Attachments:\n",
    "                # To save the perticular attachment at the desired location in your hard disk.\n",
    "                attachment.SaveAsFile(os.path.join(\"D:\",file_name))\n",
    "                break"
   ]
  },
  {
   "cell_type": "code",
   "execution_count": null,
   "metadata": {},
   "outputs": [],
   "source": [
    "outlook = save_attachments(\"PAH TO SHH/BH4 CONNECTION DETAILS ON DATE:-27.08.2021\",)"
   ]
  },
  {
   "cell_type": "code",
   "execution_count": null,
   "metadata": {},
   "outputs": [],
   "source": [
    "SERVER = \"MySQL Community Server - GPL\"\n",
    "FROM = \"ashutosh@ecomexpress.in\"\n",
    "TO = [\"listOfEmails\"] # must be a list\n",
    "\n",
    "SUBJECT = \"Subject\"\n",
    "TEXT = \"Your Text\"\n",
    "\n",
    "# Prepare actual message\n",
    "message = \"\"\"From: %s\\r\\nTo: %s\\r\\nSubject: %s\\r\\n\\\n",
    "\n",
    "%s\n",
    "\"\"\" % (FROM, \", \".join(TO), SUBJECT, TEXT)\n",
    "\n",
    "# Send the mail\n",
    "import smtplib\n",
    "server = smtplib.SMTP(SERVER)\n",
    "server.sendmail(FROM, TO, message)\n",
    "server.quit()"
   ]
  },
  {
   "cell_type": "code",
   "execution_count": null,
   "metadata": {},
   "outputs": [],
   "source": [
    "enter code here\n",
    "col_with_morethan_20_unique_values_cat=[]\n",
    "for col in data.columns:\n",
    "    if data[col].dtype =='O':\n",
    "        if len(data[col].unique()) >20:\n",
    "\n",
    "        ....col_with_morethan_20_unique_values_cat.append(data[col].name)\n",
    "        else:\n",
    "            continue\n",
    "\n",
    "print(col_with_morethan_20_unique_values_cat)\n",
    "print('total number of columns with more than 20 number of unique value is',len(col_with_morethan_20_unique_values_cat))\n",
    "\n",
    "\n",
    "\n",
    " # The o/p will be as:\n",
    "['CONTRACT NO', 'X2','X3',,,,,,,..]\n",
    "total number of columns with more than 20 number of unique value is 25"
   ]
  }
 ],
 "metadata": {
  "kernelspec": {
   "display_name": "Python 3",
   "language": "python",
   "name": "python3"
  },
  "language_info": {
   "codemirror_mode": {
    "name": "ipython",
    "version": 3
   },
   "file_extension": ".py",
   "mimetype": "text/x-python",
   "name": "python",
   "nbconvert_exporter": "python",
   "pygments_lexer": "ipython3",
   "version": "3.8.8"
  }
 },
 "nbformat": 4,
 "nbformat_minor": 4
}
